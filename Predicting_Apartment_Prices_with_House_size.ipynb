{
 "cells": [
  {
   "cell_type": "markdown",
   "id": "d531c8ed-9a03-41c2-b8aa-49a6e06602d4",
   "metadata": {},
   "source": [
    "# Prepare data\n",
    "## Import"
   ]
  },
  {
   "cell_type": "code",
   "execution_count": 44,
   "id": "9250a00b-1226-43c7-804a-8ab16a269847",
   "metadata": {},
   "outputs": [],
   "source": [
    "import pandas as pd\n",
    "import matplotlib.pyplot as plt\n",
    "from sklearn.metrics import mean_absolute_error\n",
    "from sklearn.linear_model import LinearRegression\n",
    "from sklearn.utils.validation import check_is_fitted"
   ]
  },
  {
   "cell_type": "markdown",
   "id": "b2f0b050-940a-4d96-9472-8e9ece0f96f6",
   "metadata": {},
   "source": [
    "# Data cleaning"
   ]
  },
  {
   "cell_type": "code",
   "execution_count": 64,
   "id": "11f8a363-f221-4446-8e48-9770e251523e",
   "metadata": {},
   "outputs": [],
   "source": [
    "def wrangle (filepath,location):\n",
    " df = pd.read_csv(filepath)\n",
    "\n",
    "# subset to apartments\n",
    " mask_apt = df[\"propertyType\"]== \"Apartment\"\n",
    "\n",
    "#subset properties in westlands\n",
    " mask_wl = df[\"Location\"].str.contains(location, case = False)\n",
    "\n",
    " df = df[mask_apt & mask_wl]\n",
    "# remove null values\n",
    " df = df.dropna(subset=[\"Price\",\"House size\"])\n",
    "\n",
    "# Clean price col\n",
    " df[\"Price\"] = df[\"Price\"].str.replace('KSh', '', regex= False).str.replace(' ', '', regex = False).astype(int)\n",
    "\n",
    "# clean House size col\n",
    " df[\"House size\"] = df[\"House size\"].str.replace('m²','', regex= False).str.replace(' ', '', regex = False).astype(int)\n",
    " \n",
    "# Removing outliers for house size\n",
    " Q1 = df[\"House size\"].quantile(0.25)\n",
    " Q3 = df[\"House size\"].quantile(0.75)\n",
    " IQR = Q3 - Q1\n",
    " lower_bound = Q1 - 1.5 * IQR\n",
    " upper_bound = Q3 + 1.5 * IQR\n",
    " df = df[(df[\"House size\"]>= lower_bound) & (df[\"House size\"]<= upper_bound)]\n",
    "    \n",
    " return df"
   ]
  },
  {
   "cell_type": "code",
   "execution_count": 65,
   "id": "4795f74b-a105-4ec5-9d78-19276ec09ce6",
   "metadata": {},
   "outputs": [],
   "source": [
    "df = wrangle(\"Nairobi propertyprices - Sheet1.csv\", \"Westlands\")"
   ]
  },
  {
   "cell_type": "code",
   "execution_count": 66,
   "id": "4569bbaa-6e0f-4304-8fa0-0f761545a603",
   "metadata": {},
   "outputs": [
    {
     "name": "stdout",
     "output_type": "stream",
     "text": [
      "<class 'pandas.core.frame.DataFrame'>\n",
      "Index: 16 entries, 20 to 199\n",
      "Data columns (total 7 columns):\n",
      " #   Column        Non-Null Count  Dtype  \n",
      "---  ------        --------------  -----  \n",
      " 0   Price         16 non-null     int64  \n",
      " 1   propertyType  16 non-null     object \n",
      " 2   Location      16 non-null     object \n",
      " 3   Bedroom       16 non-null     float64\n",
      " 4   bathroom      16 non-null     float64\n",
      " 5   House size    16 non-null     int64  \n",
      " 6   Land size     0 non-null      object \n",
      "dtypes: float64(2), int64(2), object(3)\n",
      "memory usage: 1.0+ KB\n"
     ]
    }
   ],
   "source": [
    "df.info()"
   ]
  },
  {
   "cell_type": "markdown",
   "id": "29b27b9c-3e4d-40a5-b229-ef247c1417b0",
   "metadata": {},
   "source": [
    "## Explore"
   ]
  },
  {
   "cell_type": "code",
   "execution_count": 11,
   "id": "455ebd84-791e-4e1c-befd-340fca896f69",
   "metadata": {},
   "outputs": [
    {
     "data": {
      "image/png": "[encoded data removed]",
      "text/plain": [
       "<Figure size 640x480 with 1 Axes>"
      ]
     },
     "metadata": {},
     "output_type": "display_data"
    }
   ],
   "source": [
    "plt.scatter(x = df[\"House size\"], y = df[\"Price\"]);"
   ]
  },
  {
   "cell_type": "markdown",
   "id": "b7685cda-2788-4c9d-bb16-b9fcf5427ac1",
   "metadata": {},
   "source": [
    "## Split"
   ]
  },
  {
   "cell_type": "code",
   "execution_count": 26,
   "id": "cf3baced-ca40-4ae7-9c16-904eda04da17",
   "metadata": {},
   "outputs": [
    {
     "data": {
      "text/html": [
       "<div>\n",
       "<style scoped>\n",
       "    .dataframe tbody tr th:only-of-type {\n",
       "        vertical-align: middle;\n",
       "    }\n",
       "\n",
       "    .dataframe tbody tr th {\n",
       "        vertical-align: top;\n",
       "    }\n",
       "\n",
       "    .dataframe thead th {\n",
       "        text-align: right;\n",
       "    }\n",
       "</style>\n",
       "<table border=\"1\" class=\"dataframe\">\n",
       "  <thead>\n",
       "    <tr style=\"text-align: right;\">\n",
       "      <th></th>\n",
       "      <th>House size</th>\n",
       "    </tr>\n",
       "  </thead>\n",
       "  <tbody>\n",
       "    <tr>\n",
       "      <th>20</th>\n",
       "      <td>203</td>\n",
       "    </tr>\n",
       "    <tr>\n",
       "      <th>21</th>\n",
       "      <td>230</td>\n",
       "    </tr>\n",
       "    <tr>\n",
       "      <th>22</th>\n",
       "      <td>203</td>\n",
       "    </tr>\n",
       "    <tr>\n",
       "      <th>35</th>\n",
       "      <td>150</td>\n",
       "    </tr>\n",
       "    <tr>\n",
       "      <th>42</th>\n",
       "      <td>90</td>\n",
       "    </tr>\n",
       "  </tbody>\n",
       "</table>\n",
       "</div>"
      ],
      "text/plain": [
       "    House size\n",
       "20         203\n",
       "21         230\n",
       "22         203\n",
       "35         150\n",
       "42          90"
      ]
     },
     "execution_count": 26,
     "metadata": {},
     "output_type": "execute_result"
    }
   ],
   "source": [
    "# feature matrix\n",
    "features = [\"House size\"]\n",
    "X_train = df[features]\n",
    "X_train.head()"
   ]
  },
  {
   "cell_type": "code",
   "execution_count": 27,
   "id": "c83fbba7-23a2-409a-86b4-6a3668cd6883",
   "metadata": {},
   "outputs": [
    {
     "data": {
      "text/plain": [
       "(16,)"
      ]
     },
     "execution_count": 27,
     "metadata": {},
     "output_type": "execute_result"
    }
   ],
   "source": [
    "# Target vector\n",
    "target = \"Price\"\n",
    "y_train = df[target]\n",
    "y_train.shape"
   ]
  },
  {
   "cell_type": "markdown",
   "id": "0a8af2a4-8fec-40eb-8cc7-7ebbfc99a039",
   "metadata": {},
   "source": [
    "# Build model\n",
    "## Baseline"
   ]
  },
  {
   "cell_type": "code",
   "execution_count": 28,
   "id": "7dccf558-6735-487d-944c-9d2266e0744b",
   "metadata": {},
   "outputs": [
    {
     "data": {
      "text/plain": [
       "np.float64(14405343.6875)"
      ]
     },
     "execution_count": 28,
     "metadata": {},
     "output_type": "execute_result"
    }
   ],
   "source": [
    "y_mean = y_train.mean()\n",
    "y_mean"
   ]
  },
  {
   "cell_type": "code",
   "execution_count": 29,
   "id": "aca752a3-f9ff-4d2a-bb15-3b421e5014b6",
   "metadata": {},
   "outputs": [
    {
     "data": {
      "text/plain": [
       "True"
      ]
     },
     "execution_count": 29,
     "metadata": {},
     "output_type": "execute_result"
    }
   ],
   "source": [
    "y_pred_baseline = [y_mean]*len(y_train)\n",
    "len(y_pred_baseline) == len(y_train)"
   ]
  },
  {
   "cell_type": "markdown",
   "id": "4106d5d6-3dfd-49b9-b238-2b0a27ec6b7a",
   "metadata": {},
   "source": [
    "## Baseline scatterplot"
   ]
  },
  {
   "cell_type": "code",
   "execution_count": 35,
   "id": "de7a38e3-b999-4597-ab78-b61445b917d8",
   "metadata": {},
   "outputs": [
    {
     "data": {
      "image/png": "[encoded data removed]",
      "text/plain": [
       "<Figure size 640x480 with 1 Axes>"
      ]
     },
     "metadata": {},
     "output_type": "display_data"
    }
   ],
   "source": [
    "plt.plot(X_train, y_pred_baseline, color = \"orange\", label = \"Baseline Model\");"
   ]
  },
  {
   "cell_type": "code",
   "execution_count": 33,
   "id": "2cbbdac8-b7fc-487a-af2c-4a82c1077477",
   "metadata": {},
   "outputs": [
    {
     "data": {
      "image/png": "[encoded data removed]",
      "text/plain": [
       "<Figure size 640x480 with 1 Axes>"
      ]
     },
     "metadata": {},
     "output_type": "display_data"
    }
   ],
   "source": [
    "plt.scatter(X_train,y_train)\n",
    "plt.xlabel(\"House sizes[sq metres]\")\n",
    "plt.ylabel(\"Price[KSh]\")\n",
    "plt.title(\"Westlands: Price vs Size\");"
   ]
  },
  {
   "cell_type": "markdown",
   "id": "d199896c-1e6d-4ae7-af05-53bb0bb157fa",
   "metadata": {},
   "source": [
    "## Baseline Mean Absolute Error"
   ]
  },
  {
   "cell_type": "code",
   "execution_count": 43,
   "id": "1045758b-ea1d-45c1-9ca4-2af07bed0c70",
   "metadata": {},
   "outputs": [
    {
     "name": "stdout",
     "output_type": "stream",
     "text": [
      "Mean Apartment Price: 14405343.69\n",
      "Baseline MAE: 6319761.65\n"
     ]
    }
   ],
   "source": [
    "mae_baseline = mean_absolute_error(y_train,y_pred_baseline)\n",
    "print(\"Mean Apartment Price:\",round(y_mean,2))\n",
    "print(\"Baseline MAE:\",round(mae_baseline,2))\n"
   ]
  },
  {
   "cell_type": "markdown",
   "id": "d8bba8c8-1783-4e8e-a832-0a8d8868d101",
   "metadata": {},
   "source": [
    "# Iterate"
   ]
  },
  {
   "cell_type": "code",
   "execution_count": 46,
   "id": "e8e8fa24-47ee-42eb-9ac2-8869e06e3d26",
   "metadata": {},
   "outputs": [],
   "source": [
    "#instantiate model\n",
    "model = LinearRegression()"
   ]
  },
  {
   "cell_type": "code",
   "execution_count": 47,
   "id": "d2ce23a9-71d0-4f2b-aa20-f4dab0e86cdc",
   "metadata": {},
   "outputs": [],
   "source": [
    "#Train model\n",
    "model.fit(X_train,y_train)\n",
    "#Check work\n",
    "check_is_fitted(model)"
   ]
  },
  {
   "cell_type": "markdown",
   "id": "ee73412e-6180-4cbb-94e3-edd730764fa8",
   "metadata": {},
   "source": [
    "# Evaluate"
   ]
  },
  {
   "cell_type": "code",
   "execution_count": 48,
   "id": "c699cb4e-3361-4fea-94fe-27432fa4ed7a",
   "metadata": {},
   "outputs": [
    {
     "data": {
      "text/plain": [
       "array([21043194.68958182, 23628904.00689413, 21043194.68958182,\n",
       "       15967543.06670952, 10221522.36157106])"
      ]
     },
     "execution_count": 48,
     "metadata": {},
     "output_type": "execute_result"
    }
   ],
   "source": [
    "#Generate predictions\n",
    "y_pred_training = model.predict(X_train)\n",
    "y_pred_training[:5]"
   ]
  },
  {
   "cell_type": "code",
   "execution_count": 49,
   "id": "35eac07d-c950-4541-96d5-e005c285749c",
   "metadata": {},
   "outputs": [
    {
     "name": "stdout",
     "output_type": "stream",
     "text": [
      "Training MAE: 4165224.74\n"
     ]
    }
   ],
   "source": [
    "#Training MAE\n",
    "mae_training = mean_absolute_error(y_train,y_pred_training)\n",
    "print(\"Training MAE:\", round(mae_training,2))"
   ]
  },
  {
   "cell_type": "markdown",
   "id": "e35ebd68-0baa-4cc2-8d14-987ddffd8dfe",
   "metadata": {},
   "source": [
    "**Model Performance on Training Data**\n",
    "\n",
    "The baseline model, which predicts the mean house price, resulted in a Mean Absolute Error(MAE) of **6M.**\n",
    "\n",
    "Our trained model achieved a lower MAE of **4M**, indicating that it has successfully learned patterns in the data and outperforms the baseline."
   ]
  },
  {
   "cell_type": "markdown",
   "id": "2eb01441-b0af-469d-813c-9fa94743c063",
   "metadata": {},
   "source": [
    "# Generalization\n",
    "## Test data using Kilimani as the location"
   ]
  },
  {
   "cell_type": "code",
   "execution_count": 67,
   "id": "590757e0-40cc-421d-beef-d08f4990079b",
   "metadata": {},
   "outputs": [
    {
     "data": {
      "text/html": [
       "<div>\n",
       "<style scoped>\n",
       "    .dataframe tbody tr th:only-of-type {\n",
       "        vertical-align: middle;\n",
       "    }\n",
       "\n",
       "    .dataframe tbody tr th {\n",
       "        vertical-align: top;\n",
       "    }\n",
       "\n",
       "    .dataframe thead th {\n",
       "        text-align: right;\n",
       "    }\n",
       "</style>\n",
       "<table border=\"1\" class=\"dataframe\">\n",
       "  <thead>\n",
       "    <tr style=\"text-align: right;\">\n",
       "      <th></th>\n",
       "      <th>Price</th>\n",
       "      <th>propertyType</th>\n",
       "      <th>Location</th>\n",
       "      <th>Bedroom</th>\n",
       "      <th>bathroom</th>\n",
       "      <th>House size</th>\n",
       "      <th>Land size</th>\n",
       "    </tr>\n",
       "  </thead>\n",
       "  <tbody>\n",
       "    <tr>\n",
       "      <th>7</th>\n",
       "      <td>9500000</td>\n",
       "      <td>Apartment</td>\n",
       "      <td>Kilimani</td>\n",
       "      <td>2.0</td>\n",
       "      <td>2.0</td>\n",
       "      <td>105</td>\n",
       "      <td>NaN</td>\n",
       "    </tr>\n",
       "    <tr>\n",
       "      <th>15</th>\n",
       "      <td>9500000</td>\n",
       "      <td>Apartment</td>\n",
       "      <td>Kilimani</td>\n",
       "      <td>2.0</td>\n",
       "      <td>2.0</td>\n",
       "      <td>105</td>\n",
       "      <td>NaN</td>\n",
       "    </tr>\n",
       "    <tr>\n",
       "      <th>16</th>\n",
       "      <td>9000000</td>\n",
       "      <td>Apartment</td>\n",
       "      <td>Kilimani</td>\n",
       "      <td>2.0</td>\n",
       "      <td>2.0</td>\n",
       "      <td>90</td>\n",
       "      <td>NaN</td>\n",
       "    </tr>\n",
       "    <tr>\n",
       "      <th>17</th>\n",
       "      <td>7200000</td>\n",
       "      <td>Apartment</td>\n",
       "      <td>Kilimani</td>\n",
       "      <td>2.0</td>\n",
       "      <td>1.0</td>\n",
       "      <td>70</td>\n",
       "      <td>NaN</td>\n",
       "    </tr>\n",
       "    <tr>\n",
       "      <th>32</th>\n",
       "      <td>9000000</td>\n",
       "      <td>Apartment</td>\n",
       "      <td>Kilimani</td>\n",
       "      <td>2.0</td>\n",
       "      <td>2.0</td>\n",
       "      <td>90</td>\n",
       "      <td>NaN</td>\n",
       "    </tr>\n",
       "  </tbody>\n",
       "</table>\n",
       "</div>"
      ],
      "text/plain": [
       "      Price propertyType  Location  Bedroom  bathroom  House size Land size\n",
       "7   9500000    Apartment  Kilimani      2.0       2.0         105       NaN\n",
       "15  9500000    Apartment  Kilimani      2.0       2.0         105       NaN\n",
       "16  9000000    Apartment  Kilimani      2.0       2.0          90       NaN\n",
       "17  7200000    Apartment  Kilimani      2.0       1.0          70       NaN\n",
       "32  9000000    Apartment  Kilimani      2.0       2.0          90       NaN"
      ]
     },
     "execution_count": 67,
     "metadata": {},
     "output_type": "execute_result"
    }
   ],
   "source": [
    "df = wrangle(\"Nairobi propertyprices - Sheet1.csv\",\"Kilimani\")\n",
    "df.head()"
   ]
  },
  {
   "cell_type": "code",
   "execution_count": 59,
   "id": "7ae1ef88-372b-42c3-b2c9-157c79aa6653",
   "metadata": {},
   "outputs": [
    {
     "data": {
      "text/plain": [
       "0    1.165803e+07\n",
       "1    1.165803e+07\n",
       "2    1.022152e+07\n",
       "3    8.306182e+06\n",
       "4    1.022152e+07\n",
       "dtype: float64"
      ]
     },
     "execution_count": 59,
     "metadata": {},
     "output_type": "execute_result"
    }
   ],
   "source": [
    "#Feature\n",
    "X_test = df[[\"House size\"]]\n",
    "\n",
    "#target\n",
    "y_test = df[\"Price\"]\n",
    "\n",
    "#Predict on test data\n",
    "y_pred_test = pd.Series(model.predict(X_test))\n",
    "y_pred_test.head()"
   ]
  },
  {
   "cell_type": "code",
   "execution_count": 60,
   "id": "f9ee4117-832d-457d-bc7b-6869ab9db5c7",
   "metadata": {},
   "outputs": [
    {
     "name": "stdout",
     "output_type": "stream",
     "text": [
      "Testing MAE: 4417992.66\n"
     ]
    }
   ],
   "source": [
    "#Evaluate on testing\n",
    "test_mae = mean_absolute_error(y_test,y_pred_test)\n",
    "print(\"Testing MAE:\", round(test_mae,2))"
   ]
  },
  {
   "cell_type": "markdown",
   "id": "d9227c29-fddb-4f59-9b32-fee55f1d2998",
   "metadata": {},
   "source": [
    "## Model Evaluation Results\n",
    "### Summary\n",
    "**Baseline MAE**: 6319761.65\n",
    "\n",
    "**Training MAE**: 4165224.74\n",
    "\n",
    "**Testing MAE**: 4417992.66\n",
    "\n",
    "### Interpretation\n",
    "**The model is performing well**:\n",
    "\n",
    "- **Both MAEs beat the baseline**: This demonstrates that house size is a useful predictor of price.\n",
    "- **Test MAE is slightly higher than train MAE**: It indicates\n",
    "- The model **generalizes well** to unseen data (Kilimani)\n",
    "- **No overfitting** is occurring\n",
    "- The model learned meaningful patterns, not just memorized the training data\n",
    "\n",
    "### Conclusion\n",
    "The model successfully predicts house prices with reasonable accuracy and shows good generalization capabilities. The slight increase in test MAE is normal and acceptable."
   ]
  },
  {
   "cell_type": "markdown",
   "id": "cf69481e-876a-49e6-b190-bd094f59f9cc",
   "metadata": {},
   "source": [
    "# Communicating Results"
   ]
  },
  {
   "cell_type": "code",
   "execution_count": 69,
   "id": "89c9c0a3-0182-405a-a23e-fe93dc1e9fc6",
   "metadata": {},
   "outputs": [
    {
     "data": {
      "text/plain": [
       "1602491"
      ]
     },
     "execution_count": 69,
     "metadata": {},
     "output_type": "execute_result"
    }
   ],
   "source": [
    "#Extract model intercept\n",
    "intercept = round(model.intercept_)\n",
    "intercept"
   ]
  },
  {
   "cell_type": "code",
   "execution_count": 70,
   "id": "bb3ae4ae-aa86-4631-847d-64593f870fe0",
   "metadata": {},
   "outputs": [
    {
     "data": {
      "text/plain": [
       "np.float64(95767.01)"
      ]
     },
     "execution_count": 70,
     "metadata": {},
     "output_type": "execute_result"
    }
   ],
   "source": [
    "#model coefficient\n",
    "coefficient = round(model.coef_[0],2)\n",
    "coefficient"
   ]
  },
  {
   "cell_type": "code",
   "execution_count": 73,
   "id": "85de3378-5d5a-4706-91d8-5ede39166edb",
   "metadata": {},
   "outputs": [
    {
     "name": "stdout",
     "output_type": "stream",
     "text": [
      "apartment_price = 1602491 + 95767.01 * House size\n"
     ]
    }
   ],
   "source": [
    "#Generate equation\n",
    "print(f\"apartment_price = {intercept} + {coefficient} * House size\")"
   ]
  },
  {
   "cell_type": "code",
   "execution_count": 80,
   "id": "6d317534-74e6-410b-9e24-c2990ddabf69",
   "metadata": {},
   "outputs": [
    {
     "data": {
      "image/png": "[encoded data removed]",
      "text/plain": [
       "<Figure size 640x480 with 1 Axes>"
      ]
     },
     "metadata": {},
     "output_type": "display_data"
    }
   ],
   "source": [
    "# Plot model\n",
    "plt.plot(X_train.squeeze(), model.predict(X_train), color = \"burlywood\", label = \"Linear Model\")\n",
    "plt.scatter(X_train,y_train)\n",
    "plt.title(\"Linear Regression Model: House size[sq metres] vs Price[KSH] in Westlands,Nairobi\")\n",
    "plt.legend();"
   ]
  },
  {
   "cell_type": "code",
   "execution_count": 79,
   "id": "70fee87b-d76c-40d6-a3b2-c1ebe4631713",
   "metadata": {},
   "outputs": [
    {
     "data": {
      "image/png": "[encoded data removed]",
      "text/plain": [
       "<Figure size 640x480 with 1 Axes>"
      ]
     },
     "metadata": {},
     "output_type": "display_data"
    }
   ],
   "source": [
    "# Plot model\n",
    "plt.plot(X_test.squeeze(), model.predict(X_test), color = \"magenta\", label = \"Linear Model\")\n",
    "plt.scatter(X_test,y_test)\n",
    "plt.title(\"Linear Regression Model: House size [sq metres] vs Price[KSH] in Kilimani, Nairobi\")\n",
    "plt.legend();"
   ]
  },
  {
   "cell_type": "code",
   "execution_count": null,
   "id": "4b1be4f3-b38e-4c06-8fc8-9e71a06bd25f",
   "metadata": {},
   "outputs": [],
   "source": []
  }
 ],
 "metadata": {
  "kernelspec": {
   "display_name": "Python 3 (ipykernel)",
   "language": "python",
   "name": "python3"
  },
  "language_info": {
   "codemirror_mode": {
    "name": "ipython",
    "version": 3
   },
   "file_extension": ".py",
   "mimetype": "text/x-python",
   "name": "python",
   "nbconvert_exporter": "python",
   "pygments_lexer": "ipython3",
   "version": "3.13.5"
  }
 },
 "nbformat": 4,
 "nbformat_minor": 5
}
